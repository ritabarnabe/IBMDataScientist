{
 "cells": [
  {
   "cell_type": "markdown",
   "metadata": {},
   "source": [
    "<center>\n",
    "    <img src=\"https://cf-courses-data.s3.us.cloud-object-storage.appdomain.cloud/IBMDeveloperSkillsNetwork-DS0105EN-SkillsNetwork/labs/Module2/images/SN_web_lightmode.png\" width=\"300\" alt=\"cognitiveclass.ai logo\">\n",
    "</center>\n"
   ]
  },
  {
   "cell_type": "markdown",
   "metadata": {},
   "source": [
    "#### Add your code below following the instructions given in the course\n"
   ]
  },
  {
   "cell_type": "markdown",
   "metadata": {},
   "source": [
    "# Peer-graded Assignment\n",
    "\n"
   ]
  },
  {
   "cell_type": "markdown",
   "metadata": {},
   "source": [
    "### 📚 Introduction\n",
    "Welcome to this notebook! Here, we'll explore essential concepts in data science, including:\n",
    "- Popular languages 🖥️\n",
    "- Frequently used libraries 📦\n",
    "- Key tools 🔧\n",
    "- Arithmetic examples ➕✖️\n",
    "\n",
    "Let's dive in and get started!\n",
    "\n"
   ]
  },
  {
   "cell_type": "markdown",
   "metadata": {},
   "source": [
    "### 💻 Data Science Languages\n",
    "Below are some of the most popular languages used in data science:\n",
    "- **Python** 🐍\n",
    "- **R** 📊\n",
    "- **SQL** 🗄️\n",
    "- **Java** ☕\n",
    "- **Julia** 🚀\n",
    "- **Scala** 🔢\n"
   ]
  },
  {
   "cell_type": "markdown",
   "metadata": {},
   "source": [
    "### 📘 Data Science Libraries\n",
    "These libraries are commonly used in data science for various tasks like data manipulation, visualization, and machine learning:\n",
    "- **Pandas** 📊\n",
    "- **NumPy** 🔢\n",
    "- **Matplotlib** 📈\n",
    "- **Scikit-learn** 🤖\n",
    "- **TensorFlow** 🤯\n",
    "- **Keras** 🧠\n"
   ]
  },
  {
   "cell_type": "markdown",
   "metadata": {},
   "source": [
    "### 🛠️ Data Science Tools\n",
    "\n",
    "| Tool              | Description                                                                                     |\n",
    "|-------------------|-------------------------------------------------------------------------------------------------|\n",
    "| **Jupyter Notebook** | An open-source web application to create and share code, visualizations, and text.         |\n",
    "| **RStudio**           | An integrated development environment for R.                                                |\n",
    "| **Apache Spark**      | A powerful open-source engine for big data processing.                                      |\n",
    "| **Tableau**           | A tool for data visualization that helps in creating interactive dashboards.                |\n",
    "| **Power BI**          | A business analytics tool by Microsoft for visualizing data and insights.                   |\n"
   ]
  },
  {
   "cell_type": "markdown",
   "metadata": {},
   "source": [
    "### ➕ Examples of Arithmetic Expressions\n",
    "In this section, we’ll go over some basic arithmetic operations.\n"
   ]
  },
  {
   "cell_type": "code",
   "execution_count": 2,
   "metadata": {},
   "outputs": [
    {
     "data": {
      "text/plain": [
       "17"
      ]
     },
     "execution_count": 2,
     "metadata": {},
     "output_type": "execute_result"
    }
   ],
   "source": [
    "# This code multiplies 3 and 4, then adds 5 to the result\n",
    "result = (3 * 4) + 5\n",
    "result\n"
   ]
  },
  {
   "cell_type": "code",
   "execution_count": 3,
   "metadata": {},
   "outputs": [
    {
     "data": {
      "text/plain": [
       "2.0"
      ]
     },
     "execution_count": 3,
     "metadata": {},
     "output_type": "execute_result"
    }
   ],
   "source": [
    "# This code converts 120 minutes into hours\n",
    "minutes = 120\n",
    "hours = minutes / 60\n",
    "hours\n"
   ]
  },
  {
   "cell_type": "markdown",
   "metadata": {},
   "source": [
    "### 🎯 Objectives\n",
    "The goals of this notebook are:\n",
    "- ✅ List popular data science languages\n",
    "- ✅ List commonly used data science libraries\n",
    "- ✅ Create a table of data science tools\n",
    "- ✅ Perform basic arithmetic operations\n",
    "- ✅ Share the notebook publicly on GitHub\n"
   ]
  },
  {
   "cell_type": "markdown",
   "metadata": {},
   "source": [
    "### 👤 Author\n",
    "**Rita Barnabé**\n"
   ]
  },
  {
   "cell_type": "markdown",
   "metadata": {},
   "source": [
    "### 🔗 GitHub Link\n",
    "Here is the public GitHub link to my notebook: [View on GitHub](YOUR_GITHUB_LINK_HERE)\n"
   ]
  },
  {
   "cell_type": "code",
   "execution_count": null,
   "metadata": {},
   "outputs": [],
   "source": []
  }
 ],
 "metadata": {
  "kernelspec": {
   "display_name": "Python 3 (ipykernel)",
   "language": "python",
   "name": "python3"
  },
  "language_info": {
   "codemirror_mode": {
    "name": "ipython",
    "version": 3
   },
   "file_extension": ".py",
   "mimetype": "text/x-python",
   "name": "python",
   "nbconvert_exporter": "python",
   "pygments_lexer": "ipython3",
   "version": "3.11.9"
  }
 },
 "nbformat": 4,
 "nbformat_minor": 4
}
